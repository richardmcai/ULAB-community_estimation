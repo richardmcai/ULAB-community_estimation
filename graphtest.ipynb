{
 "cells": [
  {
   "cell_type": "code",
   "execution_count": 20,
   "metadata": {},
   "outputs": [],
   "source": [
    "import csv, re\n",
    "from scipy.cluster.hierarchy import linkage\n",
    "from UnionFind import *\n",
    "from igraph import *\n",
    "\n",
    "# Ideally, we would associate based on traits that we've consciously chose to develop\n",
    "# Unideally, we would associate based on traits that we have no choice in or are merely incidental\n",
    "# Realistically, it's some combination of both\n",
    "STD_DEV = 5.0\n",
    "WEIGHT_INTERESTS = {'ideal' : 1000, 'unideal': 0, 'real': STD_DEV}\n",
    "WEIGHT_PRIMARY_MAJOR = {'ideal': 1000, 'unideal': 0, 'real': STD_DEV * 36.1926}\n",
    "WEIGHT_SECONDARY_MAJORS = {'real': 1000, 'unideal': 0, 'real': STD_DEV * 10.0}\n",
    "WEIGHT_GENDER = {'ideal': 0, 'unideal': 1000, 'real': STD_DEV}\n",
    "WEIGHT_COURSES = {'ideal': 0, 'unideal': 1000, 'real': STD_DEV * 36.1926}\n",
    "WEIGHT_LOCATION = {'ideal': 0, 'unideal': 100000, 'real': STD_DEV * 6911.85} # Divided by distance in feet\n",
    "\n",
    "students = [student for student in csv.reader(open(\"students.csv\"))]"
   ]
  },
  {
   "cell_type": "code",
   "execution_count": 21,
   "metadata": {
    "collapsed": true
   },
   "outputs": [],
   "source": [
    "def get_locaction_weight(bldg1, room1, bldg2, room2, case):\n",
    "    \"\"\"returns weight of location divided by distance\"\"\"\n",
    "    weight = WEIGHT_LOCATION[case]\n",
    "    bldg1, bldg2 = int(bldg1[0]), int(bldg2[0]) # Ignoring subdivided buildings, e.g. 7A & 7B\n",
    "    if bldg1 != bldg2:\n",
    "        return weight // 200\n",
    "    elif room1 != room2:\n",
    "        search1, search2 = re.search(r'\\d+', room1), re.search(r'\\d+', room2) # Ignoring Suites\n",
    "        room1 = int(search1.group()) if search1 else None\n",
    "        room2 = int(search2.group()) if search2 else None\n",
    "        if room1 and room2:\n",
    "            return weight // (abs(room1 // 10 - room2 // 10) * 10 + 10) # Same floor evaluates to 10\n",
    "        else:\n",
    "            return 100 # Same building defaults to 100\n",
    "    else:\n",
    "        return weight # same room\n",
    "    \n",
    "def get_major_weight(major1, othermajors1, major2, othermajors2):\n",
    "    othermajors1, othermajors2 = set(othermajors1.split(\", \")), set(othermajors2.split(\", \"))\n",
    "    weight = 0\n",
    "    weight += WEIGHT_PRIMARY_MAJOR if major1 == major2 else 0\n",
    "    weight += len(othermajors1 & othermajors2) * WEIGHT_SECONDARY_MAJORS\n",
    "    return weight\n",
    "\n",
    "def get_courses_weight(courses1, courses2):\n",
    "    courses1, courses2 = set(courses1), set(courses2)\n",
    "    courses1.discard('')\n",
    "    courses2.discard('')\n",
    "    return len(courses1 & courses2) * WEIGHT_COURSES"
   ]
  },
  {
   "cell_type": "code",
   "execution_count": 22,
   "metadata": {
    "collapsed": true
   },
   "outputs": [],
   "source": [
    "idealweights = []\n",
    "for v1, student in enumerate(students):\n",
    "    for v2, peer in enumerate(students):\n",
    "        if v2 <= v1:\n",
    "            continue\n",
    "        weight = 0\n",
    "        weight -= get_major_weight(student[3], student[4], peer[3], peer[4])\n",
    "        weight -=\n",
    "        idealweights.append(weight) # Clustering based on lowest weight, which should correspond to highest distance"
   ]
  },
  {
   "cell_type": "code",
   "execution_count": 23,
   "metadata": {
    "collapsed": true
   },
   "outputs": [],
   "source": [
    "network = Graph.Full(len(students))\n",
    "network.es[\"weight\"] = weights\n",
    "clustering = linkage(weights, 'average')"
   ]
  },
  {
   "cell_type": "code",
   "execution_count": 24,
   "metadata": {
    "collapsed": true
   },
   "outputs": [],
   "source": [
    "def get_memberships(clustering, numclusters=1):\n",
    "    assert 0 < numclusters <= len(clustering)\n",
    "    uf = UnionFind()\n",
    "    numitems = len(clustering) + 1\n",
    "    clustering = clustering[:-numclusters+1] if numclusters > 1 else clustering\n",
    "    for i, operation in enumerate(clustering):\n",
    "        cluster1, cluster2 = operation[0], operation[1]\n",
    "        newcluster = numitems + i\n",
    "        uf.union(cluster1, cluster2, newcluster)\n",
    "    memberships = []\n",
    "    group, foundgroups = 0, dict()\n",
    "    for item in range(numitems):\n",
    "        rep = uf[item]\n",
    "        if rep not in foundgroups:\n",
    "            foundgroups[rep] = group\n",
    "            group += 1\n",
    "        memberships.append(foundgroups[rep])\n",
    "    return memberships"
   ]
  },
  {
   "cell_type": "code",
   "execution_count": 27,
   "metadata": {
    "collapsed": true
   },
   "outputs": [],
   "source": [
    "clusteredgraph = VertexClustering(network, get_memberships(clustering, 20))"
   ]
  },
  {
   "cell_type": "code",
   "execution_count": 15,
   "metadata": {
    "collapsed": true
   },
   "outputs": [],
   "source": [
    "preclustered = Plot()\n",
    "preclustered.add(network)\n",
    "preclustered.save('preclustered.png')"
   ]
  },
  {
   "cell_type": "code",
   "execution_count": 28,
   "metadata": {
    "collapsed": true
   },
   "outputs": [],
   "source": [
    "postclustered = Plot()\n",
    "postclustered.add(clusteredgraph)\n",
    "postclustered.save('postclustered.png')"
   ]
  },
  {
   "cell_type": "code",
   "execution_count": null,
   "metadata": {
    "collapsed": true
   },
   "outputs": [],
   "source": []
  }
 ],
 "metadata": {
  "kernelspec": {
   "display_name": "Python 2",
   "language": "python",
   "name": "python2"
  },
  "language_info": {
   "codemirror_mode": {
    "name": "ipython",
    "version": 2
   },
   "file_extension": ".py",
   "mimetype": "text/x-python",
   "name": "python",
   "nbconvert_exporter": "python",
   "pygments_lexer": "ipython2",
   "version": "2.7.13"
  }
 },
 "nbformat": 4,
 "nbformat_minor": 2
}
